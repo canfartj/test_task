{
 "cells": [
  {
   "cell_type": "code",
   "execution_count": 1,
   "id": "2f08007d",
   "metadata": {},
   "outputs": [],
   "source": [
    "from pyspark.sql import SparkSession"
   ]
  },
  {
   "cell_type": "code",
   "execution_count": 2,
   "id": "6157495e",
   "metadata": {},
   "outputs": [
    {
     "name": "stdout",
     "output_type": "stream",
     "text": [
      "23/06/09 19:05:02 WARN Utils: Your hostname, MacBook-Air-Viktoria.local resolves to a loopback address: 127.0.0.1; using 192.168.0.4 instead (on interface en0)\n",
      "23/06/09 19:05:02 WARN Utils: Set SPARK_LOCAL_IP if you need to bind to another address\n",
      "23/06/09 19:05:03 WARN NativeCodeLoader: Unable to load native-hadoop library for your platform... using builtin-java classes where applicable\n"
     ]
    },
    {
     "name": "stderr",
     "output_type": "stream",
     "text": [
      "Setting default log level to \"WARN\".\n",
      "To adjust logging level use sc.setLogLevel(newLevel). For SparkR, use setLogLevel(newLevel).\n"
     ]
    }
   ],
   "source": [
    "spark = SparkSession \\\n",
    "    .builder \\\n",
    "    .master(\"local\") \\\n",
    "    .appName(\"spark_sql\") \\\n",
    "    .config(\"spark.jars\", \"/Users/viktoria/Documents/apache_spark/postgresql-42.5.3.jar\") \\\n",
    "    .getOrCreate()"
   ]
  },
  {
   "cell_type": "code",
   "execution_count": 23,
   "id": "71620b50",
   "metadata": {},
   "outputs": [],
   "source": [
    "# reading data using JDBC drivers\n",
    "\n",
    "df_part_1 = spark.read \\\n",
    "    .format(\"jdbc\") \\\n",
    "    .option(\"url\", \"jdbc:postgresql://localhost:5432/test_data\") \\\n",
    "    .option(\"dbtable\", \"data_part_1\") \\\n",
    "    .option(\"user\", \"postgres\") \\\n",
    "    .option(\"password\", \"0880\") \\\n",
    "    .option(\"driver\", \"org.postgresql.Driver\") \\\n",
    "    .load()\n",
    "\n",
    "df_part_2 = spark.read \\\n",
    "    .format(\"jdbc\") \\\n",
    "    .option(\"url\", \"jdbc:postgresql://localhost:5432/test_data\") \\\n",
    "    .option(\"dbtable\", \"data_part_2\") \\\n",
    "    .option(\"user\", \"postgres\") \\\n",
    "    .option(\"password\", \"0880\") \\\n",
    "    .option(\"driver\", \"org.postgresql.Driver\") \\\n",
    "    .load()\n",
    "\n",
    "df_part_3 = spark.read \\\n",
    "    .format(\"jdbc\") \\\n",
    "    .option(\"url\", \"jdbc:postgresql://localhost:5432/test_data\") \\\n",
    "    .option(\"dbtable\", \"data_part_3\") \\\n",
    "    .option(\"user\", \"postgres\") \\\n",
    "    .option(\"password\", \"0880\") \\\n",
    "    .option(\"driver\", \"org.postgresql.Driver\") \\\n",
    "    .load()"
   ]
  },
  {
   "cell_type": "code",
   "execution_count": 25,
   "id": "3d731c88",
   "metadata": {},
   "outputs": [],
   "source": [
    "# join tables into one table\n",
    "df = df_part_1.union(df_part_2).union(df_part_3)"
   ]
  },
  {
   "cell_type": "code",
   "execution_count": 26,
   "id": "7970f0c0",
   "metadata": {},
   "outputs": [
    {
     "name": "stdout",
     "output_type": "stream",
     "text": [
      "root\n",
      " |-- first_name: string (nullable = true)\n",
      " |-- last_name: string (nullable = true)\n",
      " |-- company_name: string (nullable = true)\n",
      " |-- address: string (nullable = true)\n",
      " |-- city: string (nullable = true)\n",
      " |-- county: string (nullable = true)\n",
      " |-- postal: string (nullable = true)\n",
      " |-- phone: string (nullable = true)\n",
      " |-- email: string (nullable = true)\n",
      "\n"
     ]
    }
   ],
   "source": [
    "df.printSchema()"
   ]
  },
  {
   "cell_type": "code",
   "execution_count": 22,
   "id": "ce07fa5b",
   "metadata": {},
   "outputs": [],
   "source": [
    "from pyspark.sql.functions import expr, count, sum, col"
   ]
  },
  {
   "cell_type": "code",
   "execution_count": 27,
   "id": "dbfbf5f3",
   "metadata": {},
   "outputs": [
    {
     "name": "stdout",
     "output_type": "stream",
     "text": [
      "+-----------------+------------+------------------+\n",
      "|           domain|domain_count|      domain_ratio|\n",
      "+-----------------+------------+------------------+\n",
      "|    teplica.co.uk|           1|0.3105590062111801|\n",
      "|        gmail.com|          83| 25.77639751552795|\n",
      "|      brace.co.uk|           1|0.3105590062111801|\n",
      "|     torner.co.uk|           1|0.3105590062111801|\n",
      "|      drawe.co.uk|           1|0.3105590062111801|\n",
      "|      yadao.co.uk|           1|0.3105590062111801|\n",
      "|     tauras.co.uk|           1|0.3105590062111801|\n",
      "|      rampy.co.uk|           1|0.3105590062111801|\n",
      "|  gastellum.co.uk|           1|0.3105590062111801|\n",
      "|      ungar.co.uk|           1|0.3105590062111801|\n",
      "|        yahoo.com|          80| 24.84472049689441|\n",
      "|     bassil.co.uk|           1|0.3105590062111801|\n",
      "|      hotmail.com|          67| 20.80745341614907|\n",
      "|    paletta.co.uk|           1|0.3105590062111801|\n",
      "|     kufner.co.uk|           1|0.3105590062111801|\n",
      "|stifflemire.co.uk|           1|0.3105590062111801|\n",
      "|   mancilla.co.uk|           1|0.3105590062111801|\n",
      "| moonshower.co.uk|           1|0.3105590062111801|\n",
      "|   spinello.co.uk|           1|0.3105590062111801|\n",
      "|            email|           1|0.3105590062111801|\n",
      "|  neufville.co.uk|           1|0.3105590062111801|\n",
      "|     veigel.co.uk|           1|0.3105590062111801|\n",
      "|   growcock.co.uk|           1|0.3105590062111801|\n",
      "|  throssell.co.uk|           1|0.3105590062111801|\n",
      "|     writer.co.uk|           1|0.3105590062111801|\n",
      "|     chisum.co.uk|           1|0.3105590062111801|\n",
      "|     klapec.co.uk|           1|0.3105590062111801|\n",
      "|     filion.co.uk|           1|0.3105590062111801|\n",
      "| kopczynski.co.uk|           1|0.3105590062111801|\n",
      "|       kham.co.uk|           1|0.3105590062111801|\n",
      "|     damato.co.uk|           1|0.3105590062111801|\n",
      "|     riherd.co.uk|           1|0.3105590062111801|\n",
      "|    piehler.co.uk|           1|0.3105590062111801|\n",
      "|      szpak.co.uk|           1|0.3105590062111801|\n",
      "| schlichter.co.uk|           1|0.3105590062111801|\n",
      "|      shuhi.co.uk|           1|0.3105590062111801|\n",
      "|   bontemps.co.uk|           1|0.3105590062111801|\n",
      "|    barbone.co.uk|           1|0.3105590062111801|\n",
      "|paluszynski.co.uk|           1|0.3105590062111801|\n",
      "|     stamps.co.uk|           1|0.3105590062111801|\n",
      "|     jessie.co.uk|           1|0.3105590062111801|\n",
      "|  babineaux.co.uk|           2|0.6211180124223602|\n",
      "|     meenan.co.uk|           1|0.3105590062111801|\n",
      "|      fulda.co.uk|           1|0.3105590062111801|\n",
      "|   abrahams.co.uk|           1|0.3105590062111801|\n",
      "|       akey.co.uk|           1|0.3105590062111801|\n",
      "|     yurich.co.uk|           1|0.3105590062111801|\n",
      "|   mchughes.co.uk|           1|0.3105590062111801|\n",
      "|     nesset.co.uk|           1|0.3105590062111801|\n",
      "|      crete.co.uk|           1|0.3105590062111801|\n",
      "|     maraia.co.uk|           1|0.3105590062111801|\n",
      "|   schurman.co.uk|           1|0.3105590062111801|\n",
      "|  vanhooser.co.uk|           1|0.3105590062111801|\n",
      "|     semrad.co.uk|           1|0.3105590062111801|\n",
      "|  puskarich.co.uk|           1|0.3105590062111801|\n",
      "|      zuehl.co.uk|           1|0.3105590062111801|\n",
      "|    wendorf.co.uk|           1|0.3105590062111801|\n",
      "|    geschke.co.uk|           1|0.3105590062111801|\n",
      "|   reinecke.co.uk|           1|0.3105590062111801|\n",
      "|   polintan.co.uk|           1|0.3105590062111801|\n",
      "|  swaisgood.co.uk|           1|0.3105590062111801|\n",
      "|      pince.co.uk|           1|0.3105590062111801|\n",
      "|        lin.co.uk|           1|0.3105590062111801|\n",
      "|     bleile.co.uk|           1|0.3105590062111801|\n",
      "|  mordhorst.co.uk|           2|0.6211180124223602|\n",
      "|    przybyl.co.uk|           2|0.6211180124223602|\n",
      "|    brigham.co.uk|           1|0.3105590062111801|\n",
      "|     chiphe.co.uk|           1|0.3105590062111801|\n",
      "|       muns.co.uk|           2|0.6211180124223602|\n",
      "|        ziv.co.uk|           1|0.3105590062111801|\n",
      "|     rempel.co.uk|           1|0.3105590062111801|\n",
      "|   cronholm.co.uk|           1|0.3105590062111801|\n",
      "|     holman.co.uk|           1|0.3105590062111801|\n",
      "|     havely.co.uk|           1|0.3105590062111801|\n",
      "| claybrooks.co.uk|           1|0.3105590062111801|\n",
      "|    brabble.co.uk|           1|0.3105590062111801|\n",
      "|     belyea.co.uk|           1|0.3105590062111801|\n",
      "|  mccrossin.co.uk|           1|0.3105590062111801|\n",
      "|  meyerhoff.co.uk|           1|0.3105590062111801|\n",
      "|     hopman.co.uk|           1|0.3105590062111801|\n",
      "|    merriam.co.uk|           1|0.3105590062111801|\n",
      "|    alcazar.co.uk|           2|0.6211180124223602|\n",
      "|     setter.co.uk|           1|0.3105590062111801|\n",
      "|     groody.co.uk|           1|0.3105590062111801|\n",
      "|    nahmias.co.uk|           1|0.3105590062111801|\n",
      "|     westad.co.uk|           1|0.3105590062111801|\n",
      "|   whitrock.co.uk|           1|0.3105590062111801|\n",
      "|  matsumura.co.uk|           1|0.3105590062111801|\n",
      "|      jirsa.co.uk|           1|0.3105590062111801|\n",
      "|      marse.co.uk|           1|0.3105590062111801|\n",
      "+-----------------+------------+------------------+\n",
      "\n"
     ]
    }
   ],
   "source": [
    "# calculating fraction of domains\n",
    "\n",
    "df = df.withColumn(\"domain\", expr(\"substring_index(email, '@', -1)\"))\n",
    "total_count = df.count()\n",
    "domain_counts = df.groupBy(\"domain\").agg(count(\"*\").alias(\"domain_count\"))\n",
    "domain_percentage = domain_counts.withColumn(\"domain_ratio\", (col(\"domain_count\") / total_count) * 100)\n",
    "\n",
    "domain_percentage.show(domain_percentage.count())"
   ]
  },
  {
   "cell_type": "code",
   "execution_count": 28,
   "id": "f91ae2d4",
   "metadata": {},
   "outputs": [
    {
     "name": "stdout",
     "output_type": "stream",
     "text": [
      "+-----------------------------+------------+\n",
      "|company_name                 |people_count|\n",
      "+-----------------------------+------------+\n",
      "|Wilhelm, James E Jr          |53          |\n",
      "|Practical Periphrals         |12          |\n",
      "|Bomarko Inc                  |23          |\n",
      "|Automation Engrg & Mfg Inc   |1           |\n",
      "|Guynes Design Inc            |1           |\n",
      "|Storm Eye Institute          |1           |\n",
      "|Lutz, Christopher T Esq      |21          |\n",
      "|company_name                 |1           |\n",
      "|Alan D Rosenburg Cpa Pc      |62          |\n",
      "|Ernest E Heuer & Company Pc  |2           |\n",
      "|Cavuto, John A               |26          |\n",
      "|Chile Pepper Magazine        |1           |\n",
      "|Flash, Elena Salerno Esq     |1           |\n",
      "|M D & W Railway              |12          |\n",
      "|Eagle Newspapers             |14          |\n",
      "|Reliable Yard Service        |1           |\n",
      "|Levy Security Consultants Ltd|9           |\n",
      "|Owensboro Brick & Tile       |21          |\n",
      "|Chemical Consultants         |15          |\n",
      "|Don Allen & Associates Pa    |1           |\n",
      "|Rotenstreich, H Andrew Esq   |1           |\n",
      "|Cappello, A Barry Esq        |3           |\n",
      "|Dworkin, Michael L           |14          |\n",
      "|C G Mccullough Insurance Agcy|21          |\n",
      "|Fast Cash                    |3           |\n",
      "|Simpson, Fred B Esq          |1           |\n",
      "|Mcdonald Service Station     |1           |\n",
      "+-----------------------------+------------+\n",
      "\n"
     ]
    }
   ],
   "source": [
    "# calculating count of people for each company \n",
    "people_count = df.groupBy(\"company_name\").agg(count(\"*\").alias(\"people_count\"))\n",
    "people_count.show(people_count.count(), truncate=False)"
   ]
  }
 ],
 "metadata": {
  "kernelspec": {
   "display_name": "Python 3 (ipykernel)",
   "language": "python",
   "name": "python3"
  },
  "language_info": {
   "codemirror_mode": {
    "name": "ipython",
    "version": 3
   },
   "file_extension": ".py",
   "mimetype": "text/x-python",
   "name": "python",
   "nbconvert_exporter": "python",
   "pygments_lexer": "ipython3",
   "version": "3.10.6"
  }
 },
 "nbformat": 4,
 "nbformat_minor": 5
}
